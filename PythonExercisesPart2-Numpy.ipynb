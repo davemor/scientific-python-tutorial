{
 "cells": [
  {
   "cell_type": "markdown",
   "metadata": {},
   "source": [
    "# Exercises - Numpy\n",
    "\n",
    "[![Open in Colab](https://colab.research.google.com/assets/colab-badge.svg)](https://colab.research.google.com/github/davemor/scientific-python-tutorial/blob/master/PythonExercisesPart2-Numpy.ipynb)\n",
    "\n",
    "### Exercise 1:\n",
    "\n",
    "Read in the theoph.csv data\n",
    "\n",
    "**reminder** columns are: *Subject, Wt, Dose, Time, conc*"
   ]
  },
  {
   "cell_type": "code",
   "execution_count": null,
   "metadata": {},
   "outputs": [],
   "source": []
  },
  {
   "cell_type": "markdown",
   "metadata": {},
   "source": [
    "### Exercise 2:\n",
    "\n",
    "The data is approximately linear between one hour and 12 hours. We are going to work with just this data for now.\n",
    "\n",
    "Create a set of data that only includes rows where time is greater than 0.9 and less than 13."
   ]
  },
  {
   "cell_type": "code",
   "execution_count": null,
   "metadata": {},
   "outputs": [],
   "source": []
  },
  {
   "cell_type": "markdown",
   "metadata": {},
   "source": [
    "**Use the cut down data set from 0.9 hours to 13 hours that you created in exercise 2, for the rest of the exercises.**\n",
    "\n",
    "### Exercise 3:\n",
    "\n",
    "For subject 4 find:\n",
    "\n",
    "* the maximum concentration of the drug\n",
    "* the time at which the maximum concentration occurs\n",
    "* the minimum concentration of the drug\n",
    "* the time at which the minimum concentration occurs\n",
    "* save these values and the subject number in an array or dataframe"
   ]
  },
  {
   "cell_type": "code",
   "execution_count": null,
   "metadata": {},
   "outputs": [],
   "source": []
  },
  {
   "cell_type": "markdown",
   "metadata": {},
   "source": [
    "### Exercise 4:\n",
    "\n",
    "Repeat the steps in exercise 3 for all subjects. Create a summary array or dataframe, with a row for each subject and columns containing:\n",
    "* subject\n",
    "* maximum concentration of drug\n",
    "* time at which maximum concentration occurs \n",
    "* minimum concentration of drug \n",
    "* time at which minimum concentration occurs"
   ]
  },
  {
   "cell_type": "code",
   "execution_count": null,
   "metadata": {},
   "outputs": [],
   "source": []
  },
  {
   "cell_type": "markdown",
   "metadata": {},
   "source": [
    "### Exercise 5:\n",
    "\n",
    "Using the summary data created in exercise 4, find:\n",
    "\n",
    "* mean of the maximum concentrations (max conc)\n",
    "* mean of the times at which maximum concentration occurs (max time)\n",
    "* mean of the minimum concentrations (min conc)\n",
    "* mean of the times at which minimum concentration occurs (min time)"
   ]
  },
  {
   "cell_type": "code",
   "execution_count": null,
   "metadata": {},
   "outputs": [],
   "source": []
  },
  {
   "cell_type": "markdown",
   "metadata": {},
   "source": [
    "### Exercise 6:\n",
    "\n",
    "If we plotted a scatter plot with time on the x axis and concentration on the y axis, the data would be roughly linear.\n",
    "\n",
    "A line approximately fitting the data is defined by the two points (max time, max conc) and (min time, min conc) calculated in the previous step. \n",
    "\n",
    "Workout the gradient and intercept of the line."
   ]
  },
  {
   "cell_type": "code",
   "execution_count": null,
   "metadata": {},
   "outputs": [],
   "source": []
  },
  {
   "cell_type": "markdown",
   "metadata": {},
   "source": [
    "### Additional exercises:\n",
    "\n",
    "* Calculate the value of the fitted line at each row in the dataframe\n",
    "* Calculate the differences between your fitted line and the concentration for each row\n",
    "* Calculate the sum of the squared differences for the whole dataset, this is your error estimate\n",
    "* Create some alternative values of gradients and intercepts to test\n",
    "* Find the best gradient and intercept combination from the values in the previous step (the one with the lowest error estimate).\n",
    "* You have just calculated an approximation to simple linear regression. Find a numpy function to do linear regression. How close were you?"
   ]
  }
 ],
 "metadata": {
  "kernelspec": {
   "display_name": "Python 3",
   "language": "python",
   "name": "python3"
  },
  "language_info": {
   "codemirror_mode": {
    "name": "ipython",
    "version": 3
   },
   "file_extension": ".py",
   "mimetype": "text/x-python",
   "name": "python",
   "nbconvert_exporter": "python",
   "pygments_lexer": "ipython3",
   "version": "3.9.1"
  }
 },
 "nbformat": 4,
 "nbformat_minor": 2
}
