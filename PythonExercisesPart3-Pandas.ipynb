{
 "cells": [
  {
   "cell_type": "markdown",
   "id": "extended-editing",
   "metadata": {},
   "source": [
    "# Pandas Exercises\n",
    "[![Open in Colab](https://colab.research.google.com/assets/colab-badge.svg)](https://colab.research.google.com/github/davemor/scientific-python-tutorial/blob/master/PythonExercisesPart3-Pandas.ipynb)"
   ]
  },
  {
   "cell_type": "markdown",
   "id": "protected-recruitment",
   "metadata": {},
   "source": [
    "## Exercise 1 - Loading Our Data:\n",
    "Read in the running.csv data using or Pandas and assign it to a variable called `running`. We are going to use it in the rest of the exercises.\n",
    "\n",
    "The running csv is a synthetic data set describing me doing the Couch To 5K exercise program (https://www.nhs.uk/live-well/exercise/) to loss a healthy amount of weight. Note - the numbers are provided for the purposes of this exercise and don't neccessarly reflect what is realistic or desirable in reality.\n",
    "\n",
    "The columns are:\n",
    "- week: the week of the program\n",
    "- weight: my weight that week (in kg)\n",
    "- distance: the distance I ran that week (in km)"
   ]
  },
  {
   "cell_type": "code",
   "execution_count": null,
   "id": "monetary-shoot",
   "metadata": {},
   "outputs": [],
   "source": []
  },
  {
   "cell_type": "markdown",
   "id": "senior-blocking",
   "metadata": {},
   "source": [
    "## Exercise 2 - Exploring Our Data:\n",
    "- Print out the column names for the Data Frame.\n",
    "- Print out the shape of the Data Frame.\n",
    "- Compute the mean distance that I ran over all.\n",
    "- Compute the max distance that I ran over all.\n",
    "- Compute the median distance that I run in the first 10 weeks.\n",
    "- Use the describe method to get summaries of the weight and distance columns."
   ]
  },
  {
   "cell_type": "code",
   "execution_count": null,
   "id": "hired-coffee",
   "metadata": {},
   "outputs": [],
   "source": []
  },
  {
   "cell_type": "markdown",
   "id": "excellent-identification",
   "metadata": {},
   "source": [
    "## Exercise 3 - Using Predicates\n",
    "- Find the weeks where I ran over 5km.\n",
    "- Find the weeks where my weight was under 80kg.\n",
    "- Find the weeks where I ran over 4km and my weight was under 90kg."
   ]
  },
  {
   "cell_type": "code",
   "execution_count": null,
   "id": "ruled-motor",
   "metadata": {},
   "outputs": [],
   "source": []
  },
  {
   "cell_type": "markdown",
   "id": "proud-sensitivity",
   "metadata": {},
   "source": [
    "## Exercise 4 - Writing out Data\n",
    "- Add a boolean column called `result` to the `running` Data Frame  that is True when I run over 5km that week and False otherwise.\n",
    "- Save it to a csv file called `results.csv`."
   ]
  },
  {
   "cell_type": "code",
   "execution_count": null,
   "id": "worst-multimedia",
   "metadata": {},
   "outputs": [],
   "source": []
  }
 ],
 "metadata": {
  "kernelspec": {
   "display_name": "Python 3",
   "language": "python",
   "name": "python3"
  },
  "language_info": {
   "codemirror_mode": {
    "name": "ipython",
    "version": 3
   },
   "file_extension": ".py",
   "mimetype": "text/x-python",
   "name": "python",
   "nbconvert_exporter": "python",
   "pygments_lexer": "ipython3",
   "version": "3.9.1"
  }
 },
 "nbformat": 4,
 "nbformat_minor": 5
}
