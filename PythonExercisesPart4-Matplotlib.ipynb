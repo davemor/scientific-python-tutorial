{
 "cells": [
  {
   "cell_type": "markdown",
   "id": "qualified-doctor",
   "metadata": {},
   "source": [
    "# Matplotlib Exercises\n",
    "[![Open in Colab](https://colab.research.google.com/assets/colab-badge.svg)](https://colab.research.google.com/github/davemor/scientific-python-tutorial/blob/master/PythonTutorialPart4-Matplotlib.ipynb)"
   ]
  },
  {
   "cell_type": "markdown",
   "id": "mediterranean-terry",
   "metadata": {},
   "source": [
    "## Exercise 1 - Loading Our Data:\n",
    "Read in the theoph.csv data using either Numpy or Pandas and assign it to a variable. We are going to use it in the rest of the exercises.\n",
    "\n",
    "**reminder** columns are: *Subject, Wt, Dose, Time, conc*"
   ]
  },
  {
   "cell_type": "code",
   "execution_count": null,
   "id": "middle-hunter",
   "metadata": {},
   "outputs": [],
   "source": []
  },
  {
   "cell_type": "markdown",
   "id": "cathedral-procurement",
   "metadata": {},
   "source": [
    "## Exercise 2 - Basic Plotting:\n",
    "For subject 11, create a line plot with their time on the x-axis and their conentration on the y-axis.\n",
    "\n",
    "Tip - you will need to select the rows that have 'Subject' equal to 11 and then selected the 'Time' and 'conc' columns."
   ]
  },
  {
   "cell_type": "code",
   "execution_count": null,
   "id": "listed-approval",
   "metadata": {},
   "outputs": [],
   "source": []
  },
  {
   "cell_type": "markdown",
   "id": "russian-supervisor",
   "metadata": {},
   "source": [
    "## Exercise 3 - Improving Readability:\n",
    "- Copy your code from the last exercise into a new cell.\n",
    "- Add a legend to the plot, the label should be 'Subject 11'\n",
    "- Add the label 'Time' to the x-axis\n",
    "- Add the label 'Concentration' to the y-axis\n",
    "- Add a title, 'How Concentration changes over Time'"
   ]
  },
  {
   "cell_type": "code",
   "execution_count": null,
   "id": "simplified-shoot",
   "metadata": {},
   "outputs": [],
   "source": []
  },
  {
   "cell_type": "markdown",
   "id": "viral-pakistan",
   "metadata": {},
   "source": [
    "## Exercise 4 - Adding More Data:\n",
    "- Copy your code from the last exercise into a new cell.\n",
    "- Add plots for subject 1, 2, and 7. "
   ]
  },
  {
   "cell_type": "code",
   "execution_count": null,
   "id": "olive-trade",
   "metadata": {},
   "outputs": [],
   "source": []
  }
 ],
 "metadata": {
  "kernelspec": {
   "display_name": "Python 3",
   "language": "python",
   "name": "python3"
  },
  "language_info": {
   "codemirror_mode": {
    "name": "ipython",
    "version": 3
   },
   "file_extension": ".py",
   "mimetype": "text/x-python",
   "name": "python",
   "nbconvert_exporter": "python",
   "pygments_lexer": "ipython3",
   "version": "3.9.1"
  }
 },
 "nbformat": 4,
 "nbformat_minor": 5
}
