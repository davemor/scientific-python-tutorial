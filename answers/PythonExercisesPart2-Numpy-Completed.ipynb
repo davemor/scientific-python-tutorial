{
 "cells": [
  {
   "cell_type": "markdown",
   "metadata": {},
   "source": [
    "# Numpy Exercises\n",
    "\n",
    "### Exercise 1:\n",
    "\n",
    "Read in the theoph.csv data\n",
    "\n",
    "**reminder** columns are: *Subject, Wt, Dose, Time, conc*"
   ]
  },
  {
   "cell_type": "code",
   "execution_count": 1,
   "metadata": {},
   "outputs": [
    {
     "data": {
      "text/plain": [
       "array([[  nan,   nan,   nan,   nan,   nan],\n",
       "       [11.  , 79.6 ,  4.02,  0.  ,  0.74],\n",
       "       [11.  , 79.6 ,  4.02,  0.25,  2.84],\n",
       "       [11.  , 79.6 ,  4.02,  0.57,  6.57],\n",
       "       [11.  , 79.6 ,  4.02,  1.12, 10.5 ],\n",
       "       [11.  , 79.6 ,  4.02,  2.02,  9.66],\n",
       "       [11.  , 79.6 ,  4.02,  3.82,  8.58],\n",
       "       [11.  , 79.6 ,  4.02,  5.1 ,  8.36],\n",
       "       [11.  , 79.6 ,  4.02,  7.03,  7.47],\n",
       "       [11.  , 79.6 ,  4.02,  9.05,  6.89],\n",
       "       [11.  , 79.6 ,  4.02, 12.12,  5.94],\n",
       "       [11.  , 79.6 ,  4.02, 24.37,  3.28],\n",
       "       [ 6.  , 72.4 ,  4.4 ,  0.  ,  0.  ],\n",
       "       [ 6.  , 72.4 ,  4.4 ,  0.27,  1.72],\n",
       "       [ 6.  , 72.4 ,  4.4 ,  0.52,  7.91],\n",
       "       [ 6.  , 72.4 ,  4.4 ,  1.  ,  8.31],\n",
       "       [ 6.  , 72.4 ,  4.4 ,  1.92,  8.33],\n",
       "       [ 6.  , 72.4 ,  4.4 ,  3.5 ,  6.85],\n",
       "       [ 6.  , 72.4 ,  4.4 ,  5.02,  6.08],\n",
       "       [ 6.  , 72.4 ,  4.4 ,  7.03,  5.4 ],\n",
       "       [ 6.  , 72.4 ,  4.4 ,  9.  ,  4.55],\n",
       "       [ 6.  , 72.4 ,  4.4 , 12.  ,  3.01],\n",
       "       [ 6.  , 72.4 ,  4.4 , 24.3 ,  0.9 ],\n",
       "       [ 5.  , 70.5 ,  4.53,  0.  ,  0.  ],\n",
       "       [ 5.  , 70.5 ,  4.53,  0.27,  4.4 ],\n",
       "       [ 5.  , 70.5 ,  4.53,  0.58,  6.9 ],\n",
       "       [ 5.  , 70.5 ,  4.53,  1.02,  8.2 ],\n",
       "       [ 5.  , 70.5 ,  4.53,  2.02,  7.8 ],\n",
       "       [ 5.  , 70.5 ,  4.53,  3.62,  7.5 ],\n",
       "       [ 5.  , 70.5 ,  4.53,  5.08,  6.2 ],\n",
       "       [ 5.  , 70.5 ,  4.53,  7.07,  5.3 ],\n",
       "       [ 5.  , 70.5 ,  4.53,  9.  ,  4.9 ],\n",
       "       [ 5.  , 70.5 ,  4.53, 12.15,  3.7 ],\n",
       "       [ 5.  , 70.5 ,  4.53, 24.17,  1.05],\n",
       "       [ 7.  , 72.7 ,  4.4 ,  0.  ,  0.  ],\n",
       "       [ 7.  , 72.7 ,  4.4 ,  0.35,  1.89],\n",
       "       [ 7.  , 72.7 ,  4.4 ,  0.6 ,  4.6 ],\n",
       "       [ 7.  , 72.7 ,  4.4 ,  1.07,  8.6 ],\n",
       "       [ 7.  , 72.7 ,  4.4 ,  2.13,  8.38],\n",
       "       [ 7.  , 72.7 ,  4.4 ,  3.5 ,  7.54],\n",
       "       [ 7.  , 72.7 ,  4.4 ,  5.02,  6.88],\n",
       "       [ 7.  , 72.7 ,  4.4 ,  7.02,  5.78],\n",
       "       [ 7.  , 72.7 ,  4.4 ,  9.02,  5.33],\n",
       "       [ 7.  , 72.7 ,  4.4 , 11.98,  4.19],\n",
       "       [ 7.  , 72.7 ,  4.4 , 24.65,  1.15],\n",
       "       [12.  , 54.6 ,  5.86,  0.  ,  0.  ],\n",
       "       [12.  , 54.6 ,  5.86,  0.3 ,  2.02],\n",
       "       [12.  , 54.6 ,  5.86,  0.52,  5.63],\n",
       "       [12.  , 54.6 ,  5.86,  1.  , 11.4 ],\n",
       "       [12.  , 54.6 ,  5.86,  2.02,  9.33],\n",
       "       [12.  , 54.6 ,  5.86,  3.5 ,  8.74],\n",
       "       [12.  , 54.6 ,  5.86,  5.02,  7.56],\n",
       "       [12.  , 54.6 ,  5.86,  7.02,  7.09],\n",
       "       [12.  , 54.6 ,  5.86,  9.1 ,  5.9 ],\n",
       "       [12.  , 54.6 ,  5.86, 12.  ,  4.37],\n",
       "       [12.  , 54.6 ,  5.86, 24.35,  1.57],\n",
       "       [ 1.  , 80.  ,  4.  ,  0.  ,  0.  ],\n",
       "       [ 1.  , 80.  ,  4.  ,  0.27,  1.29],\n",
       "       [ 1.  , 80.  ,  4.  ,  0.58,  3.08],\n",
       "       [ 1.  , 80.  ,  4.  ,  1.15,  6.44],\n",
       "       [ 1.  , 80.  ,  4.  ,  2.03,  6.32],\n",
       "       [ 1.  , 80.  ,  4.  ,  3.57,  5.53],\n",
       "       [ 1.  , 80.  ,  4.  ,  5.  ,  4.94],\n",
       "       [ 1.  , 80.  ,  4.  ,  7.  ,  4.02],\n",
       "       [ 1.  , 80.  ,  4.  ,  9.22,  3.46],\n",
       "       [ 1.  , 80.  ,  4.  , 12.1 ,  2.78],\n",
       "       [ 1.  , 80.  ,  4.  , 23.85,  0.92],\n",
       "       [ 2.  , 64.6 ,  4.95,  0.  ,  0.15],\n",
       "       [ 2.  , 64.6 ,  4.95,  0.25,  0.85],\n",
       "       [ 2.  , 64.6 ,  4.95,  0.5 ,  2.35],\n",
       "       [ 2.  , 64.6 ,  4.95,  1.02,  5.02],\n",
       "       [ 2.  , 64.6 ,  4.95,  2.02,  6.58],\n",
       "       [ 2.  , 64.6 ,  4.95,  3.48,  7.09],\n",
       "       [ 2.  , 64.6 ,  4.95,  5.  ,  6.66],\n",
       "       [ 2.  , 64.6 ,  4.95,  6.98,  5.25],\n",
       "       [ 2.  , 64.6 ,  4.95,  9.  ,  4.39],\n",
       "       [ 2.  , 64.6 ,  4.95, 12.05,  3.53],\n",
       "       [ 2.  , 64.6 ,  4.95, 24.22,  1.15],\n",
       "       [ 3.  , 70.5 ,  4.53,  0.  ,  0.  ],\n",
       "       [ 3.  , 70.5 ,  4.53,  0.25,  3.05],\n",
       "       [ 3.  , 70.5 ,  4.53,  0.52,  3.05],\n",
       "       [ 3.  , 70.5 ,  4.53,  0.98,  7.31],\n",
       "       [ 3.  , 70.5 ,  4.53,  2.02,  7.56],\n",
       "       [ 3.  , 70.5 ,  4.53,  3.53,  6.59],\n",
       "       [ 3.  , 70.5 ,  4.53,  5.05,  5.88],\n",
       "       [ 3.  , 70.5 ,  4.53,  7.15,  4.73],\n",
       "       [ 3.  , 70.5 ,  4.53,  9.07,  4.57],\n",
       "       [ 3.  , 70.5 ,  4.53, 12.1 ,  3.  ],\n",
       "       [ 3.  , 70.5 ,  4.53, 24.12,  1.25],\n",
       "       [ 8.  , 86.4 ,  3.1 ,  0.  ,  0.  ],\n",
       "       [ 8.  , 86.4 ,  3.1 ,  0.3 ,  7.37],\n",
       "       [ 8.  , 86.4 ,  3.1 ,  0.63,  9.03],\n",
       "       [ 8.  , 86.4 ,  3.1 ,  1.05,  7.14],\n",
       "       [ 8.  , 86.4 ,  3.1 ,  2.02,  6.33],\n",
       "       [ 8.  , 86.4 ,  3.1 ,  3.53,  5.66],\n",
       "       [ 8.  , 86.4 ,  3.1 ,  5.02,  5.67],\n",
       "       [ 8.  , 86.4 ,  3.1 ,  7.17,  4.24],\n",
       "       [ 8.  , 86.4 ,  3.1 ,  8.8 ,  4.11],\n",
       "       [ 8.  , 86.4 ,  3.1 , 11.6 ,  3.16],\n",
       "       [ 8.  , 86.4 ,  3.1 , 24.43,  1.12],\n",
       "       [10.  , 58.2 ,  5.5 ,  0.  ,  0.24],\n",
       "       [10.  , 58.2 ,  5.5 ,  0.37,  2.89],\n",
       "       [10.  , 58.2 ,  5.5 ,  0.77,  5.22],\n",
       "       [10.  , 58.2 ,  5.5 ,  1.02,  6.41],\n",
       "       [10.  , 58.2 ,  5.5 ,  2.05,  7.83],\n",
       "       [10.  , 58.2 ,  5.5 ,  3.55, 10.21],\n",
       "       [10.  , 58.2 ,  5.5 ,  5.05,  9.18],\n",
       "       [10.  , 58.2 ,  5.5 ,  7.08,  8.02],\n",
       "       [10.  , 58.2 ,  5.5 ,  9.38,  7.14],\n",
       "       [10.  , 58.2 ,  5.5 , 12.1 ,  5.68],\n",
       "       [10.  , 58.2 ,  5.5 , 23.7 ,  2.42],\n",
       "       [ 4.  , 65.  ,  4.92,  0.  ,  0.  ],\n",
       "       [ 4.  , 65.  ,  4.92,  0.25,  4.86],\n",
       "       [ 4.  , 65.  ,  4.92,  0.5 ,  7.24],\n",
       "       [ 4.  , 65.  ,  4.92,  0.98,  8.  ],\n",
       "       [ 4.  , 65.  ,  4.92,  1.98,  6.81],\n",
       "       [ 4.  , 65.  ,  4.92,  3.6 ,  5.87],\n",
       "       [ 4.  , 65.  ,  4.92,  5.02,  5.22],\n",
       "       [ 4.  , 65.  ,  4.92,  7.03,  4.45],\n",
       "       [ 4.  , 65.  ,  4.92,  9.03,  3.62],\n",
       "       [ 4.  , 65.  ,  4.92, 12.12,  2.69],\n",
       "       [ 4.  , 65.  ,  4.92, 24.08,  0.86],\n",
       "       [ 9.  , 60.5 ,  5.3 ,  0.  ,  0.  ],\n",
       "       [ 9.  , 60.5 ,  5.3 ,  0.25,  1.25],\n",
       "       [ 9.  , 60.5 ,  5.3 ,  0.5 ,  3.96],\n",
       "       [ 9.  , 60.5 ,  5.3 ,  1.  ,  7.82],\n",
       "       [ 9.  , 60.5 ,  5.3 ,  2.  ,  9.72],\n",
       "       [ 9.  , 60.5 ,  5.3 ,  3.52,  9.75],\n",
       "       [ 9.  , 60.5 ,  5.3 ,  5.07,  8.57],\n",
       "       [ 9.  , 60.5 ,  5.3 ,  7.07,  6.59],\n",
       "       [ 9.  , 60.5 ,  5.3 ,  9.03,  6.11],\n",
       "       [ 9.  , 60.5 ,  5.3 , 12.05,  4.57],\n",
       "       [ 9.  , 60.5 ,  5.3 , 24.15,  1.17]])"
      ]
     },
     "execution_count": 1,
     "metadata": {},
     "output_type": "execute_result"
    }
   ],
   "source": [
    "import numpy as np\n",
    "theoph_file_location = 'theoph.csv'\n",
    "theoph = np.genfromtxt(theoph_file_location, delimiter=',', skip_header=1)\n",
    "theoph"
   ]
  },
  {
   "cell_type": "markdown",
   "metadata": {},
   "source": [
    "### Exercise 2:\n",
    "\n",
    "The data is approximately linear between one hour and 12 hours. We are going to work with just this data for now.\n",
    "\n",
    "Create a set of data that only includes rows where time is greater than 0.9 and less than 13."
   ]
  },
  {
   "cell_type": "code",
   "execution_count": 2,
   "metadata": {},
   "outputs": [
    {
     "data": {
      "text/plain": [
       "array([[11.  , 79.6 ,  4.02,  1.12, 10.5 ],\n",
       "       [11.  , 79.6 ,  4.02,  2.02,  9.66],\n",
       "       [11.  , 79.6 ,  4.02,  3.82,  8.58],\n",
       "       [11.  , 79.6 ,  4.02,  5.1 ,  8.36],\n",
       "       [11.  , 79.6 ,  4.02,  7.03,  7.47],\n",
       "       [11.  , 79.6 ,  4.02,  9.05,  6.89],\n",
       "       [11.  , 79.6 ,  4.02, 12.12,  5.94],\n",
       "       [ 6.  , 72.4 ,  4.4 ,  1.  ,  8.31],\n",
       "       [ 6.  , 72.4 ,  4.4 ,  1.92,  8.33],\n",
       "       [ 6.  , 72.4 ,  4.4 ,  3.5 ,  6.85],\n",
       "       [ 6.  , 72.4 ,  4.4 ,  5.02,  6.08],\n",
       "       [ 6.  , 72.4 ,  4.4 ,  7.03,  5.4 ],\n",
       "       [ 6.  , 72.4 ,  4.4 ,  9.  ,  4.55],\n",
       "       [ 6.  , 72.4 ,  4.4 , 12.  ,  3.01],\n",
       "       [ 5.  , 70.5 ,  4.53,  1.02,  8.2 ],\n",
       "       [ 5.  , 70.5 ,  4.53,  2.02,  7.8 ],\n",
       "       [ 5.  , 70.5 ,  4.53,  3.62,  7.5 ],\n",
       "       [ 5.  , 70.5 ,  4.53,  5.08,  6.2 ],\n",
       "       [ 5.  , 70.5 ,  4.53,  7.07,  5.3 ],\n",
       "       [ 5.  , 70.5 ,  4.53,  9.  ,  4.9 ],\n",
       "       [ 5.  , 70.5 ,  4.53, 12.15,  3.7 ],\n",
       "       [ 7.  , 72.7 ,  4.4 ,  1.07,  8.6 ],\n",
       "       [ 7.  , 72.7 ,  4.4 ,  2.13,  8.38],\n",
       "       [ 7.  , 72.7 ,  4.4 ,  3.5 ,  7.54],\n",
       "       [ 7.  , 72.7 ,  4.4 ,  5.02,  6.88],\n",
       "       [ 7.  , 72.7 ,  4.4 ,  7.02,  5.78],\n",
       "       [ 7.  , 72.7 ,  4.4 ,  9.02,  5.33],\n",
       "       [ 7.  , 72.7 ,  4.4 , 11.98,  4.19],\n",
       "       [12.  , 54.6 ,  5.86,  1.  , 11.4 ],\n",
       "       [12.  , 54.6 ,  5.86,  2.02,  9.33],\n",
       "       [12.  , 54.6 ,  5.86,  3.5 ,  8.74],\n",
       "       [12.  , 54.6 ,  5.86,  5.02,  7.56],\n",
       "       [12.  , 54.6 ,  5.86,  7.02,  7.09],\n",
       "       [12.  , 54.6 ,  5.86,  9.1 ,  5.9 ],\n",
       "       [12.  , 54.6 ,  5.86, 12.  ,  4.37],\n",
       "       [ 1.  , 80.  ,  4.  ,  1.15,  6.44],\n",
       "       [ 1.  , 80.  ,  4.  ,  2.03,  6.32],\n",
       "       [ 1.  , 80.  ,  4.  ,  3.57,  5.53],\n",
       "       [ 1.  , 80.  ,  4.  ,  5.  ,  4.94],\n",
       "       [ 1.  , 80.  ,  4.  ,  7.  ,  4.02],\n",
       "       [ 1.  , 80.  ,  4.  ,  9.22,  3.46],\n",
       "       [ 1.  , 80.  ,  4.  , 12.1 ,  2.78],\n",
       "       [ 2.  , 64.6 ,  4.95,  1.02,  5.02],\n",
       "       [ 2.  , 64.6 ,  4.95,  2.02,  6.58],\n",
       "       [ 2.  , 64.6 ,  4.95,  3.48,  7.09],\n",
       "       [ 2.  , 64.6 ,  4.95,  5.  ,  6.66],\n",
       "       [ 2.  , 64.6 ,  4.95,  6.98,  5.25],\n",
       "       [ 2.  , 64.6 ,  4.95,  9.  ,  4.39],\n",
       "       [ 2.  , 64.6 ,  4.95, 12.05,  3.53],\n",
       "       [ 3.  , 70.5 ,  4.53,  0.98,  7.31],\n",
       "       [ 3.  , 70.5 ,  4.53,  2.02,  7.56],\n",
       "       [ 3.  , 70.5 ,  4.53,  3.53,  6.59],\n",
       "       [ 3.  , 70.5 ,  4.53,  5.05,  5.88],\n",
       "       [ 3.  , 70.5 ,  4.53,  7.15,  4.73],\n",
       "       [ 3.  , 70.5 ,  4.53,  9.07,  4.57],\n",
       "       [ 3.  , 70.5 ,  4.53, 12.1 ,  3.  ],\n",
       "       [ 8.  , 86.4 ,  3.1 ,  1.05,  7.14],\n",
       "       [ 8.  , 86.4 ,  3.1 ,  2.02,  6.33],\n",
       "       [ 8.  , 86.4 ,  3.1 ,  3.53,  5.66],\n",
       "       [ 8.  , 86.4 ,  3.1 ,  5.02,  5.67],\n",
       "       [ 8.  , 86.4 ,  3.1 ,  7.17,  4.24],\n",
       "       [ 8.  , 86.4 ,  3.1 ,  8.8 ,  4.11],\n",
       "       [ 8.  , 86.4 ,  3.1 , 11.6 ,  3.16],\n",
       "       [10.  , 58.2 ,  5.5 ,  1.02,  6.41],\n",
       "       [10.  , 58.2 ,  5.5 ,  2.05,  7.83],\n",
       "       [10.  , 58.2 ,  5.5 ,  3.55, 10.21],\n",
       "       [10.  , 58.2 ,  5.5 ,  5.05,  9.18],\n",
       "       [10.  , 58.2 ,  5.5 ,  7.08,  8.02],\n",
       "       [10.  , 58.2 ,  5.5 ,  9.38,  7.14],\n",
       "       [10.  , 58.2 ,  5.5 , 12.1 ,  5.68],\n",
       "       [ 4.  , 65.  ,  4.92,  0.98,  8.  ],\n",
       "       [ 4.  , 65.  ,  4.92,  1.98,  6.81],\n",
       "       [ 4.  , 65.  ,  4.92,  3.6 ,  5.87],\n",
       "       [ 4.  , 65.  ,  4.92,  5.02,  5.22],\n",
       "       [ 4.  , 65.  ,  4.92,  7.03,  4.45],\n",
       "       [ 4.  , 65.  ,  4.92,  9.03,  3.62],\n",
       "       [ 4.  , 65.  ,  4.92, 12.12,  2.69],\n",
       "       [ 9.  , 60.5 ,  5.3 ,  1.  ,  7.82],\n",
       "       [ 9.  , 60.5 ,  5.3 ,  2.  ,  9.72],\n",
       "       [ 9.  , 60.5 ,  5.3 ,  3.52,  9.75],\n",
       "       [ 9.  , 60.5 ,  5.3 ,  5.07,  8.57],\n",
       "       [ 9.  , 60.5 ,  5.3 ,  7.07,  6.59],\n",
       "       [ 9.  , 60.5 ,  5.3 ,  9.03,  6.11],\n",
       "       [ 9.  , 60.5 ,  5.3 , 12.05,  4.57]])"
      ]
     },
     "execution_count": 2,
     "metadata": {},
     "output_type": "execute_result"
    }
   ],
   "source": [
    "mask = (theoph[:, 3] > 0.9) & (theoph[:, 3] < 13)\n",
    "data = theoph[mask, :]\n",
    "data"
   ]
  },
  {
   "cell_type": "markdown",
   "metadata": {},
   "source": [
    "**Use the cut down data set from 0.9 hours to 13 hours that you created in exercise 2, for the rest of the exercises.**\n",
    "\n",
    "### Exercise 3:\n",
    "\n",
    "For subject 4 find:\n",
    "\n",
    "* the maximum concentration of the drug\n",
    "* the time at which the maximum concentration occurs\n",
    "* the minimum concentration of the drug\n",
    "* the time at which the minimum concentration occurs\n",
    "* save these values and the subject number in an array"
   ]
  },
  {
   "cell_type": "code",
   "execution_count": 15,
   "metadata": {},
   "outputs": [
    {
     "data": {
      "text/plain": [
       "array([ 4.  ,  8.  ,  0.98,  2.69, 12.12])"
      ]
     },
     "execution_count": 15,
     "metadata": {},
     "output_type": "execute_result"
    }
   ],
   "source": [
    "# select subject 4\n",
    "four_mask = data[:, 0] == 4\n",
    "four_data = data[four_mask, :]\n",
    "\n",
    "# max concentration\n",
    "max_con = np.max(four_data[:, 4])\n",
    "max_con_idx = np.argmax(four_data[:, 4])\n",
    "time_of_max_con = four_data[max_con_idx, 3]\n",
    "\n",
    "# min concentration\n",
    "min_con = np.min(four_data[:, 4])\n",
    "min_con_idx = np.argmin(four_data[:, 4])\n",
    "time_of_min_con = four_data[min_con_idx, 3]\n",
    "\n",
    "# save\n",
    "min_max_subject_arr = np.array([4, max_con, time_of_max_con, min_con, time_of_min_con])\n",
    "min_max_subject_arr"
   ]
  },
  {
   "cell_type": "markdown",
   "metadata": {},
   "source": [
    "### Exercise 4:\n",
    "\n",
    "Repeat the steps in exercise 3 for all subjects. Create a summary array, with a row for each subject and columns containing:\n",
    "* subject\n",
    "* maximum concentration of drug\n",
    "* time at which maximum concentration occurs \n",
    "* minimum concentration of drug \n",
    "* time at which minimum concentration occurs"
   ]
  },
  {
   "cell_type": "code",
   "execution_count": 37,
   "metadata": {},
   "outputs": [
    {
     "data": {
      "text/plain": [
       "array([[ 1.  ,  6.44,  1.15,  2.78, 12.1 ],\n",
       "       [ 2.  ,  7.09,  3.48,  3.53, 12.05],\n",
       "       [ 3.  ,  7.56,  2.02,  3.  , 12.1 ],\n",
       "       [ 4.  ,  8.  ,  0.98,  2.69, 12.12],\n",
       "       [ 5.  ,  8.2 ,  1.02,  3.7 , 12.15],\n",
       "       [ 6.  ,  8.33,  1.92,  3.01, 12.  ],\n",
       "       [ 7.  ,  8.6 ,  1.07,  4.19, 11.98],\n",
       "       [ 8.  ,  7.14,  1.05,  3.16, 11.6 ],\n",
       "       [ 9.  ,  9.75,  3.52,  4.57, 12.05],\n",
       "       [10.  , 10.21,  3.55,  5.68, 12.1 ],\n",
       "       [11.  , 10.5 ,  1.12,  5.94, 12.12],\n",
       "       [12.  , 11.4 ,  1.  ,  4.37, 12.  ]])"
      ]
     },
     "execution_count": 37,
     "metadata": {},
     "output_type": "execute_result"
    }
   ],
   "source": [
    "def make_summary_row(subject):\n",
    "    subject_mask = data[:, 0] == subject\n",
    "    subject_data = data[subject_mask, :]\n",
    "    con_col = subject_data[:, 4]\n",
    "\n",
    "    # max concentration\n",
    "    max_con = np.max(con_col)\n",
    "    time_of_max_con = subject_data[np.argmax(con_col), 3]\n",
    "\n",
    "    # min concentration\n",
    "    min_con = np.min(con_col)\n",
    "    time_of_min_con = subject_data[np.argmin(con_col), 3]\n",
    "\n",
    "    return np.array([subject, max_con, time_of_max_con, min_con, time_of_min_con])\n",
    "\n",
    "num_subjects = np.unique(data[:, 0]).size\n",
    "summary_rows = np.array([make_summary_row(idx+1) for idx in range(num_subjects)])\n",
    "summary_rows"
   ]
  },
  {
   "cell_type": "markdown",
   "metadata": {},
   "source": [
    "### Exercise 5:\n",
    "\n",
    "Using the summary data created in exercise 4, find:\n",
    "\n",
    "* mean of the maximum concentrations (max conc)\n",
    "* mean of the times at which maximum concentration occurs (max time)\n",
    "* mean of the minimum concentrations (min conc)\n",
    "* mean of the times at which minimum concentration occurs (min time)"
   ]
  },
  {
   "cell_type": "code",
   "execution_count": 41,
   "metadata": {},
   "outputs": [
    {
     "name": "stdout",
     "output_type": "stream",
     "text": [
      "8.601666666666667 1.8233333333333335 3.885 12.030833333333332\n"
     ]
    }
   ],
   "source": [
    "# note - converting the array to a tuple allow it to be broken up into variables\n",
    "mean_summary = np.mean(summary_rows[:, 1:], axis=0)\n",
    "cmax, tmax, cmin, tmin = tuple(mean_summary)\n",
    "print(cmax, tmax, cmin, tmin)"
   ]
  },
  {
   "cell_type": "markdown",
   "metadata": {},
   "source": [
    "### Exercise 6:\n",
    "\n",
    "If we plotted a scatter plot with time on the x axis and concentration on the y axis, the data would be roughly linear.\n",
    "\n",
    "A line approximately fitting the data is defined by the two points (max time, max conc) and (min time, min conc) calculated in the previous step. \n",
    "\n",
    "Workout the gradient and intercept of the line."
   ]
  },
  {
   "cell_type": "code",
   "execution_count": 42,
   "metadata": {},
   "outputs": [
    {
     "name": "stdout",
     "output_type": "stream",
     "text": [
      "y = -0.4620785370234306x + 9.44418986583939\n"
     ]
    }
   ],
   "source": [
    "gradient = (cmax - cmin) / (tmax - tmin)\n",
    "intercept = cmax - gradient * tmax\n",
    "print(f\"y = {gradient}x + {intercept}\")"
   ]
  },
  {
   "cell_type": "code",
   "execution_count": null,
   "metadata": {},
   "outputs": [],
   "source": []
  }
 ],
 "metadata": {
  "kernelspec": {
   "display_name": "Python 3",
   "language": "python",
   "name": "python3"
  },
  "language_info": {
   "codemirror_mode": {
    "name": "ipython",
    "version": 3
   },
   "file_extension": ".py",
   "mimetype": "text/x-python",
   "name": "python",
   "nbconvert_exporter": "python",
   "pygments_lexer": "ipython3",
   "version": "3.8.5"
  }
 },
 "nbformat": 4,
 "nbformat_minor": 2
}
