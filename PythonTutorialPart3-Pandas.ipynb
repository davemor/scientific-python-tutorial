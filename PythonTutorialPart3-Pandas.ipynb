{
 "cells": [
  {
   "cell_type": "markdown",
   "id": "matched-doubt",
   "metadata": {},
   "source": [
    "# Pandas\n",
    "[![Open in Colab](https://colab.research.google.com/assets/colab-badge.svg)](https://colab.research.google.com/github/davemor/scientific-python-tutorial/blob/master/PythonTutorialPart3-Pandas.ipynb)\n",
    "- Pandas is a library for data manipulation.\n",
    "- Useful for reading, exploring, transforming, and writing table-like data with columns of different data-types.\n",
    "- It’s also useful for time series data and have lot’s of tools for working with times.\n",
    "- It’s similar to a spreadsheet but can do many of the selection and transformation operations you might do with a database.\n",
    "- Check out https://pandas.pydata.org/docs/index.html for detailed Documentation.\n",
    "- When importing Pandas the convention is to alias it to pd, like so:"
   ]
  },
  {
   "cell_type": "code",
   "execution_count": 2,
   "id": "victorian-optimization",
   "metadata": {},
   "outputs": [
    {
     "data": {
      "text/plain": [
       "['BooleanDtype',\n",
       " 'Categorical',\n",
       " 'CategoricalDtype',\n",
       " 'CategoricalIndex',\n",
       " 'DataFrame',\n",
       " 'DateOffset',\n",
       " 'DatetimeIndex',\n",
       " 'DatetimeTZDtype',\n",
       " 'ExcelFile',\n",
       " 'ExcelWriter',\n",
       " 'Float64Index',\n",
       " 'Grouper',\n",
       " 'HDFStore',\n",
       " 'Index',\n",
       " 'IndexSlice',\n",
       " 'Int16Dtype',\n",
       " 'Int32Dtype',\n",
       " 'Int64Dtype',\n",
       " 'Int64Index',\n",
       " 'Int8Dtype',\n",
       " 'Interval',\n",
       " 'IntervalDtype',\n",
       " 'IntervalIndex',\n",
       " 'MultiIndex',\n",
       " 'NA',\n",
       " 'NaT',\n",
       " 'NamedAgg',\n",
       " 'Period',\n",
       " 'PeriodDtype',\n",
       " 'PeriodIndex',\n",
       " 'RangeIndex',\n",
       " 'Series',\n",
       " 'SparseDtype',\n",
       " 'StringDtype',\n",
       " 'Timedelta',\n",
       " 'TimedeltaIndex',\n",
       " 'Timestamp',\n",
       " 'UInt16Dtype',\n",
       " 'UInt32Dtype',\n",
       " 'UInt64Dtype',\n",
       " 'UInt64Index',\n",
       " 'UInt8Dtype',\n",
       " '__builtins__',\n",
       " '__cached__',\n",
       " '__doc__',\n",
       " '__docformat__',\n",
       " '__file__',\n",
       " '__getattr__',\n",
       " '__git_version__',\n",
       " '__loader__',\n",
       " '__name__',\n",
       " '__package__',\n",
       " '__path__',\n",
       " '__spec__',\n",
       " '__version__',\n",
       " '_config',\n",
       " '_hashtable',\n",
       " '_is_numpy_dev',\n",
       " '_lib',\n",
       " '_libs',\n",
       " '_np_version_under1p16',\n",
       " '_np_version_under1p17',\n",
       " '_np_version_under1p18',\n",
       " '_testing',\n",
       " '_tslib',\n",
       " '_typing',\n",
       " '_version',\n",
       " 'api',\n",
       " 'array',\n",
       " 'arrays',\n",
       " 'bdate_range',\n",
       " 'compat',\n",
       " 'concat',\n",
       " 'core',\n",
       " 'crosstab',\n",
       " 'cut',\n",
       " 'date_range',\n",
       " 'describe_option',\n",
       " 'errors',\n",
       " 'eval',\n",
       " 'factorize',\n",
       " 'get_dummies',\n",
       " 'get_option',\n",
       " 'infer_freq',\n",
       " 'interval_range',\n",
       " 'io',\n",
       " 'isna',\n",
       " 'isnull',\n",
       " 'json_normalize',\n",
       " 'lreshape',\n",
       " 'melt',\n",
       " 'merge',\n",
       " 'merge_asof',\n",
       " 'merge_ordered',\n",
       " 'notna',\n",
       " 'notnull',\n",
       " 'offsets',\n",
       " 'option_context',\n",
       " 'options',\n",
       " 'pandas',\n",
       " 'period_range',\n",
       " 'pivot',\n",
       " 'pivot_table',\n",
       " 'plotting',\n",
       " 'qcut',\n",
       " 'read_clipboard',\n",
       " 'read_csv',\n",
       " 'read_excel',\n",
       " 'read_feather',\n",
       " 'read_fwf',\n",
       " 'read_gbq',\n",
       " 'read_hdf',\n",
       " 'read_html',\n",
       " 'read_json',\n",
       " 'read_orc',\n",
       " 'read_parquet',\n",
       " 'read_pickle',\n",
       " 'read_sas',\n",
       " 'read_spss',\n",
       " 'read_sql',\n",
       " 'read_sql_query',\n",
       " 'read_sql_table',\n",
       " 'read_stata',\n",
       " 'read_table',\n",
       " 'reset_option',\n",
       " 'set_eng_float_format',\n",
       " 'set_option',\n",
       " 'show_versions',\n",
       " 'test',\n",
       " 'testing',\n",
       " 'timedelta_range',\n",
       " 'to_datetime',\n",
       " 'to_numeric',\n",
       " 'to_pickle',\n",
       " 'to_timedelta',\n",
       " 'tseries',\n",
       " 'unique',\n",
       " 'util',\n",
       " 'value_counts',\n",
       " 'wide_to_long']"
      ]
     },
     "execution_count": 2,
     "metadata": {},
     "output_type": "execute_result"
    }
   ],
   "source": [
    "import pandas as pd\n",
    "dir(pd)"
   ]
  },
  {
   "cell_type": "markdown",
   "id": "exotic-pakistan",
   "metadata": {},
   "source": [
    "## Series\n",
    "- A Series is one-dimensional ndarray with labels for each of it’s elements – called it’s index.\n",
    "- Indexes can be any hashable value, such as a string or an integer. They default to 0, 1, 2, 3, …\n",
    "- A Series can also have name (optionally).\n",
    "- We can declare a Series like so, passing in a value for each element:"
   ]
  },
  {
   "cell_type": "code",
   "execution_count": 3,
   "id": "green-honor",
   "metadata": {},
   "outputs": [
    {
     "data": {
      "text/plain": [
       "0    a\n",
       "1    b\n",
       "2    c\n",
       "3    c\n",
       "dtype: object"
      ]
     },
     "execution_count": 3,
     "metadata": {},
     "output_type": "execute_result"
    }
   ],
   "source": [
    "pd.Series(['a', 'b', 'c', 'c'])"
   ]
  },
  {
   "cell_type": "markdown",
   "id": "worldwide-beach",
   "metadata": {},
   "source": [
    "This will add a Range Index by default, that is one that starts a 0 and goes up in increments on 1."
   ]
  },
  {
   "cell_type": "markdown",
   "id": "twelve-precipitation",
   "metadata": {},
   "source": [
    "Let's say that we want to use a set of the string of our own invention as the indices. We can do this by passing a list to the index keyword argument."
   ]
  },
  {
   "cell_type": "code",
   "execution_count": 4,
   "id": "coordinate-commitment",
   "metadata": {},
   "outputs": [
    {
     "data": {
      "text/plain": [
       "row0    a\n",
       "row1    b\n",
       "row2    c\n",
       "row3    c\n",
       "dtype: object"
      ]
     },
     "execution_count": 4,
     "metadata": {},
     "output_type": "execute_result"
    }
   ],
   "source": [
    "s = pd.Series(['a', 'b', 'c', 'c'], \n",
    "        index=['row0', 'row1', 'row2', 'row3'])\n",
    "s"
   ]
  },
  {
   "cell_type": "markdown",
   "id": "intelligent-demonstration",
   "metadata": {},
   "source": [
    "If we want to select a value from a series, there are two methods: \n",
    "- loc – retrieves that value with that label in the index\n",
    "- iloc – retrieves the value at that location\n"
   ]
  },
  {
   "cell_type": "code",
   "execution_count": 5,
   "id": "systematic-piano",
   "metadata": {},
   "outputs": [
    {
     "data": {
      "text/plain": [
       "'c'"
      ]
     },
     "execution_count": 5,
     "metadata": {},
     "output_type": "execute_result"
    }
   ],
   "source": [
    "s.loc['row2']"
   ]
  },
  {
   "cell_type": "code",
   "execution_count": 6,
   "id": "sized-importance",
   "metadata": {},
   "outputs": [
    {
     "data": {
      "text/plain": [
       "'c'"
      ]
     },
     "execution_count": 6,
     "metadata": {},
     "output_type": "execute_result"
    }
   ],
   "source": [
    "s.iloc[2]"
   ]
  },
  {
   "cell_type": "code",
   "execution_count": 7,
   "id": "exceptional-mobility",
   "metadata": {},
   "outputs": [
    {
     "data": {
      "text/plain": [
       "'c'"
      ]
     },
     "execution_count": 7,
     "metadata": {},
     "output_type": "execute_result"
    }
   ],
   "source": [
    "s['row2']"
   ]
  },
  {
   "cell_type": "markdown",
   "id": "logical-community",
   "metadata": {},
   "source": [
    "This can be a source of bugs if the index is and integer but non-consecutive."
   ]
  },
  {
   "cell_type": "markdown",
   "id": "decimal-orlando",
   "metadata": {},
   "source": [
    "## Data Frames\n",
    "- A Data Frame is two-dimensional data structure, used to represent table-like data consisting of cells, organised into rows and columns.\n",
    "- Each column in a Data Frame is a Series. \n",
    "- You can think of a Data Frame as a dictionary of Series.\n",
    "- All Series in the Data Frame have identical indexes.\n",
    "- Think of the indexes as defining the row names and the keys for each Series as defining the column names.\n",
    "- They are declared using the DataFrame constructor. For example:"
   ]
  },
  {
   "cell_type": "code",
   "execution_count": 8,
   "id": "thick-villa",
   "metadata": {},
   "outputs": [
    {
     "data": {
      "text/html": [
       "<div>\n",
       "<style scoped>\n",
       "    .dataframe tbody tr th:only-of-type {\n",
       "        vertical-align: middle;\n",
       "    }\n",
       "\n",
       "    .dataframe tbody tr th {\n",
       "        vertical-align: top;\n",
       "    }\n",
       "\n",
       "    .dataframe thead th {\n",
       "        text-align: right;\n",
       "    }\n",
       "</style>\n",
       "<table border=\"1\" class=\"dataframe\">\n",
       "  <thead>\n",
       "    <tr style=\"text-align: right;\">\n",
       "      <th></th>\n",
       "      <th>name</th>\n",
       "      <th>instrument</th>\n",
       "      <th>age</th>\n",
       "    </tr>\n",
       "  </thead>\n",
       "  <tbody>\n",
       "    <tr>\n",
       "      <th>0</th>\n",
       "      <td>Nick</td>\n",
       "      <td>drums</td>\n",
       "      <td>77</td>\n",
       "    </tr>\n",
       "    <tr>\n",
       "      <th>1</th>\n",
       "      <td>Roger</td>\n",
       "      <td>base</td>\n",
       "      <td>77</td>\n",
       "    </tr>\n",
       "    <tr>\n",
       "      <th>2</th>\n",
       "      <td>Dave</td>\n",
       "      <td>guitar</td>\n",
       "      <td>74</td>\n",
       "    </tr>\n",
       "  </tbody>\n",
       "</table>\n",
       "</div>"
      ],
      "text/plain": [
       "    name instrument  age\n",
       "0   Nick      drums   77\n",
       "1  Roger       base   77\n",
       "2   Dave     guitar   74"
      ]
     },
     "execution_count": 8,
     "metadata": {},
     "output_type": "execute_result"
    }
   ],
   "source": [
    "pink_floyd = pd.DataFrame({\n",
    "    \"name\": [\"Nick\", \"Roger\", \"Dave\"],\n",
    "    \"instrument\": [\"drums\", \"base\", \"guitar\"],\n",
    "    \"age\": [77, 77, 74]\n",
    "})\n",
    "pink_floyd"
   ]
  },
  {
   "cell_type": "markdown",
   "id": "fantastic-fetish",
   "metadata": {},
   "source": [
    "You can declare an empty Data Frame with the column names using the columns keyword argument."
   ]
  },
  {
   "cell_type": "code",
   "execution_count": 9,
   "id": "capital-myrtle",
   "metadata": {},
   "outputs": [
    {
     "data": {
      "text/html": [
       "<div>\n",
       "<style scoped>\n",
       "    .dataframe tbody tr th:only-of-type {\n",
       "        vertical-align: middle;\n",
       "    }\n",
       "\n",
       "    .dataframe tbody tr th {\n",
       "        vertical-align: top;\n",
       "    }\n",
       "\n",
       "    .dataframe thead th {\n",
       "        text-align: right;\n",
       "    }\n",
       "</style>\n",
       "<table border=\"1\" class=\"dataframe\">\n",
       "  <thead>\n",
       "    <tr style=\"text-align: right;\">\n",
       "      <th></th>\n",
       "      <th>name</th>\n",
       "      <th>instrument</th>\n",
       "      <th>age</th>\n",
       "    </tr>\n",
       "  </thead>\n",
       "  <tbody>\n",
       "  </tbody>\n",
       "</table>\n",
       "</div>"
      ],
      "text/plain": [
       "Empty DataFrame\n",
       "Columns: [name, instrument, age]\n",
       "Index: []"
      ]
     },
     "execution_count": 9,
     "metadata": {},
     "output_type": "execute_result"
    }
   ],
   "source": [
    "band = pd.DataFrame(columns=['name', 'instrument', 'age'])\n",
    "band"
   ]
  },
  {
   "cell_type": "markdown",
   "id": "middle-position",
   "metadata": {},
   "source": [
    "Data Frames actually have a property called columns. Note - it is of type index but it's actually the column names, not the rows."
   ]
  },
  {
   "cell_type": "code",
   "execution_count": 10,
   "id": "monetary-ideal",
   "metadata": {},
   "outputs": [
    {
     "data": {
      "text/plain": [
       "Index(['name', 'instrument', 'age'], dtype='object')"
      ]
     },
     "execution_count": 10,
     "metadata": {},
     "output_type": "execute_result"
    }
   ],
   "source": [
    "band.columns"
   ]
  },
  {
   "cell_type": "markdown",
   "id": "dynamic-mattress",
   "metadata": {},
   "source": [
    "It can be useful to get a quick look at the start of any data. To do this we can use the `head` method to select as many rows at the start as we want."
   ]
  },
  {
   "cell_type": "code",
   "execution_count": 11,
   "id": "recognized-institution",
   "metadata": {},
   "outputs": [
    {
     "data": {
      "text/html": [
       "<div>\n",
       "<style scoped>\n",
       "    .dataframe tbody tr th:only-of-type {\n",
       "        vertical-align: middle;\n",
       "    }\n",
       "\n",
       "    .dataframe tbody tr th {\n",
       "        vertical-align: top;\n",
       "    }\n",
       "\n",
       "    .dataframe thead th {\n",
       "        text-align: right;\n",
       "    }\n",
       "</style>\n",
       "<table border=\"1\" class=\"dataframe\">\n",
       "  <thead>\n",
       "    <tr style=\"text-align: right;\">\n",
       "      <th></th>\n",
       "      <th>name</th>\n",
       "      <th>instrument</th>\n",
       "      <th>age</th>\n",
       "    </tr>\n",
       "  </thead>\n",
       "  <tbody>\n",
       "    <tr>\n",
       "      <th>0</th>\n",
       "      <td>Nick</td>\n",
       "      <td>drums</td>\n",
       "      <td>77</td>\n",
       "    </tr>\n",
       "    <tr>\n",
       "      <th>1</th>\n",
       "      <td>Roger</td>\n",
       "      <td>base</td>\n",
       "      <td>77</td>\n",
       "    </tr>\n",
       "  </tbody>\n",
       "</table>\n",
       "</div>"
      ],
      "text/plain": [
       "    name instrument  age\n",
       "0   Nick      drums   77\n",
       "1  Roger       base   77"
      ]
     },
     "execution_count": 11,
     "metadata": {},
     "output_type": "execute_result"
    }
   ],
   "source": [
    "pink_floyd.head(2)"
   ]
  },
  {
   "cell_type": "markdown",
   "id": "close-volunteer",
   "metadata": {},
   "source": [
    "Indexing pandas dataframes has the same label and position options as the pandas Series."
   ]
  },
  {
   "cell_type": "code",
   "execution_count": 12,
   "id": "ranking-corps",
   "metadata": {},
   "outputs": [
    {
     "data": {
      "text/html": [
       "<div>\n",
       "<style scoped>\n",
       "    .dataframe tbody tr th:only-of-type {\n",
       "        vertical-align: middle;\n",
       "    }\n",
       "\n",
       "    .dataframe tbody tr th {\n",
       "        vertical-align: top;\n",
       "    }\n",
       "\n",
       "    .dataframe thead th {\n",
       "        text-align: right;\n",
       "    }\n",
       "</style>\n",
       "<table border=\"1\" class=\"dataframe\">\n",
       "  <thead>\n",
       "    <tr style=\"text-align: right;\">\n",
       "      <th></th>\n",
       "      <th>name</th>\n",
       "      <th>age</th>\n",
       "    </tr>\n",
       "  </thead>\n",
       "  <tbody>\n",
       "    <tr>\n",
       "      <th>0</th>\n",
       "      <td>Nick</td>\n",
       "      <td>77</td>\n",
       "    </tr>\n",
       "    <tr>\n",
       "      <th>2</th>\n",
       "      <td>Dave</td>\n",
       "      <td>74</td>\n",
       "    </tr>\n",
       "  </tbody>\n",
       "</table>\n",
       "</div>"
      ],
      "text/plain": [
       "   name  age\n",
       "0  Nick   77\n",
       "2  Dave   74"
      ]
     },
     "execution_count": 12,
     "metadata": {},
     "output_type": "execute_result"
    }
   ],
   "source": [
    "pink_floyd.loc[[0, 2], ['name', 'age']]"
   ]
  },
  {
   "cell_type": "code",
   "execution_count": 13,
   "id": "provincial-jewel",
   "metadata": {},
   "outputs": [
    {
     "data": {
      "text/html": [
       "<div>\n",
       "<style scoped>\n",
       "    .dataframe tbody tr th:only-of-type {\n",
       "        vertical-align: middle;\n",
       "    }\n",
       "\n",
       "    .dataframe tbody tr th {\n",
       "        vertical-align: top;\n",
       "    }\n",
       "\n",
       "    .dataframe thead th {\n",
       "        text-align: right;\n",
       "    }\n",
       "</style>\n",
       "<table border=\"1\" class=\"dataframe\">\n",
       "  <thead>\n",
       "    <tr style=\"text-align: right;\">\n",
       "      <th></th>\n",
       "      <th>name</th>\n",
       "      <th>instrument</th>\n",
       "    </tr>\n",
       "  </thead>\n",
       "  <tbody>\n",
       "    <tr>\n",
       "      <th>0</th>\n",
       "      <td>Nick</td>\n",
       "      <td>drums</td>\n",
       "    </tr>\n",
       "    <tr>\n",
       "      <th>2</th>\n",
       "      <td>Dave</td>\n",
       "      <td>guitar</td>\n",
       "    </tr>\n",
       "  </tbody>\n",
       "</table>\n",
       "</div>"
      ],
      "text/plain": [
       "   name instrument\n",
       "0  Nick      drums\n",
       "2  Dave     guitar"
      ]
     },
     "execution_count": 13,
     "metadata": {},
     "output_type": "execute_result"
    }
   ],
   "source": [
    "pink_floyd.iloc[[0, 2], [0, 1]]"
   ]
  },
  {
   "cell_type": "markdown",
   "id": "effective-premises",
   "metadata": {},
   "source": [
    "We can also use a boolean condition (a.k.a a predicate) to select specific rows."
   ]
  },
  {
   "cell_type": "code",
   "execution_count": 14,
   "id": "reserved-violin",
   "metadata": {},
   "outputs": [
    {
     "data": {
      "text/html": [
       "<div>\n",
       "<style scoped>\n",
       "    .dataframe tbody tr th:only-of-type {\n",
       "        vertical-align: middle;\n",
       "    }\n",
       "\n",
       "    .dataframe tbody tr th {\n",
       "        vertical-align: top;\n",
       "    }\n",
       "\n",
       "    .dataframe thead th {\n",
       "        text-align: right;\n",
       "    }\n",
       "</style>\n",
       "<table border=\"1\" class=\"dataframe\">\n",
       "  <thead>\n",
       "    <tr style=\"text-align: right;\">\n",
       "      <th></th>\n",
       "      <th>name</th>\n",
       "      <th>instrument</th>\n",
       "      <th>age</th>\n",
       "    </tr>\n",
       "  </thead>\n",
       "  <tbody>\n",
       "    <tr>\n",
       "      <th>0</th>\n",
       "      <td>Nick</td>\n",
       "      <td>drums</td>\n",
       "      <td>77</td>\n",
       "    </tr>\n",
       "    <tr>\n",
       "      <th>1</th>\n",
       "      <td>Roger</td>\n",
       "      <td>base</td>\n",
       "      <td>77</td>\n",
       "    </tr>\n",
       "  </tbody>\n",
       "</table>\n",
       "</div>"
      ],
      "text/plain": [
       "    name instrument  age\n",
       "0   Nick      drums   77\n",
       "1  Roger       base   77"
      ]
     },
     "execution_count": 14,
     "metadata": {},
     "output_type": "execute_result"
    }
   ],
   "source": [
    "predicate = pink_floyd['age'] > 75\n",
    "over_75 = pink_floyd[predicate]\n",
    "over_75"
   ]
  },
  {
   "cell_type": "markdown",
   "id": "connected-variable",
   "metadata": {},
   "source": [
    "We can transform Data Frames in lot's of ways. For example, let's say we wanted to add another column to the frame. We can do this by assigning to the column, like so:"
   ]
  },
  {
   "cell_type": "code",
   "execution_count": 15,
   "id": "institutional-malaysia",
   "metadata": {},
   "outputs": [
    {
     "data": {
      "text/html": [
       "<div>\n",
       "<style scoped>\n",
       "    .dataframe tbody tr th:only-of-type {\n",
       "        vertical-align: middle;\n",
       "    }\n",
       "\n",
       "    .dataframe tbody tr th {\n",
       "        vertical-align: top;\n",
       "    }\n",
       "\n",
       "    .dataframe thead th {\n",
       "        text-align: right;\n",
       "    }\n",
       "</style>\n",
       "<table border=\"1\" class=\"dataframe\">\n",
       "  <thead>\n",
       "    <tr style=\"text-align: right;\">\n",
       "      <th></th>\n",
       "      <th>name</th>\n",
       "      <th>instrument</th>\n",
       "      <th>age</th>\n",
       "      <th>hometown</th>\n",
       "    </tr>\n",
       "  </thead>\n",
       "  <tbody>\n",
       "    <tr>\n",
       "      <th>0</th>\n",
       "      <td>Nick</td>\n",
       "      <td>drums</td>\n",
       "      <td>77</td>\n",
       "      <td>London</td>\n",
       "    </tr>\n",
       "    <tr>\n",
       "      <th>1</th>\n",
       "      <td>Roger</td>\n",
       "      <td>base</td>\n",
       "      <td>77</td>\n",
       "      <td>Great Bookham</td>\n",
       "    </tr>\n",
       "    <tr>\n",
       "      <th>2</th>\n",
       "      <td>Dave</td>\n",
       "      <td>guitar</td>\n",
       "      <td>74</td>\n",
       "      <td>Cambridge</td>\n",
       "    </tr>\n",
       "  </tbody>\n",
       "</table>\n",
       "</div>"
      ],
      "text/plain": [
       "    name instrument  age       hometown\n",
       "0   Nick      drums   77         London\n",
       "1  Roger       base   77  Great Bookham\n",
       "2   Dave     guitar   74      Cambridge"
      ]
     },
     "execution_count": 15,
     "metadata": {},
     "output_type": "execute_result"
    }
   ],
   "source": [
    "hometown = ['London', 'Great Bookham', 'Cambridge']\n",
    "pink_floyd['hometown'] = hometown\n",
    "pink_floyd"
   ]
  },
  {
   "cell_type": "markdown",
   "id": "little-internet",
   "metadata": {},
   "source": [
    "Note that we can assign to a column with a single value and it will fill the column."
   ]
  },
  {
   "cell_type": "markdown",
   "id": "further-begin",
   "metadata": {},
   "source": [
    "## Reading and Writing CSV files using Pandas\n",
    "Pandas can also be used to read and write CSV files using the `pd.read_csv` and `pd.to_csv` functions."
   ]
  },
  {
   "cell_type": "code",
   "execution_count": 16,
   "id": "virtual-arrival",
   "metadata": {},
   "outputs": [
    {
     "data": {
      "text/html": [
       "<div>\n",
       "<style scoped>\n",
       "    .dataframe tbody tr th:only-of-type {\n",
       "        vertical-align: middle;\n",
       "    }\n",
       "\n",
       "    .dataframe tbody tr th {\n",
       "        vertical-align: top;\n",
       "    }\n",
       "\n",
       "    .dataframe thead th {\n",
       "        text-align: right;\n",
       "    }\n",
       "</style>\n",
       "<table border=\"1\" class=\"dataframe\">\n",
       "  <thead>\n",
       "    <tr style=\"text-align: right;\">\n",
       "      <th></th>\n",
       "      <th>Subject</th>\n",
       "      <th>Wt</th>\n",
       "      <th>Dose</th>\n",
       "      <th>Time</th>\n",
       "      <th>conc</th>\n",
       "    </tr>\n",
       "  </thead>\n",
       "  <tbody>\n",
       "    <tr>\n",
       "      <th>0</th>\n",
       "      <td>11</td>\n",
       "      <td>79.6</td>\n",
       "      <td>4.02</td>\n",
       "      <td>0.00</td>\n",
       "      <td>0.74</td>\n",
       "    </tr>\n",
       "    <tr>\n",
       "      <th>1</th>\n",
       "      <td>11</td>\n",
       "      <td>79.6</td>\n",
       "      <td>4.02</td>\n",
       "      <td>0.25</td>\n",
       "      <td>2.84</td>\n",
       "    </tr>\n",
       "    <tr>\n",
       "      <th>2</th>\n",
       "      <td>11</td>\n",
       "      <td>79.6</td>\n",
       "      <td>4.02</td>\n",
       "      <td>0.57</td>\n",
       "      <td>6.57</td>\n",
       "    </tr>\n",
       "    <tr>\n",
       "      <th>3</th>\n",
       "      <td>11</td>\n",
       "      <td>79.6</td>\n",
       "      <td>4.02</td>\n",
       "      <td>1.12</td>\n",
       "      <td>10.50</td>\n",
       "    </tr>\n",
       "    <tr>\n",
       "      <th>4</th>\n",
       "      <td>11</td>\n",
       "      <td>79.6</td>\n",
       "      <td>4.02</td>\n",
       "      <td>2.02</td>\n",
       "      <td>9.66</td>\n",
       "    </tr>\n",
       "    <tr>\n",
       "      <th>...</th>\n",
       "      <td>...</td>\n",
       "      <td>...</td>\n",
       "      <td>...</td>\n",
       "      <td>...</td>\n",
       "      <td>...</td>\n",
       "    </tr>\n",
       "    <tr>\n",
       "      <th>127</th>\n",
       "      <td>9</td>\n",
       "      <td>60.5</td>\n",
       "      <td>5.30</td>\n",
       "      <td>5.07</td>\n",
       "      <td>8.57</td>\n",
       "    </tr>\n",
       "    <tr>\n",
       "      <th>128</th>\n",
       "      <td>9</td>\n",
       "      <td>60.5</td>\n",
       "      <td>5.30</td>\n",
       "      <td>7.07</td>\n",
       "      <td>6.59</td>\n",
       "    </tr>\n",
       "    <tr>\n",
       "      <th>129</th>\n",
       "      <td>9</td>\n",
       "      <td>60.5</td>\n",
       "      <td>5.30</td>\n",
       "      <td>9.03</td>\n",
       "      <td>6.11</td>\n",
       "    </tr>\n",
       "    <tr>\n",
       "      <th>130</th>\n",
       "      <td>9</td>\n",
       "      <td>60.5</td>\n",
       "      <td>5.30</td>\n",
       "      <td>12.05</td>\n",
       "      <td>4.57</td>\n",
       "    </tr>\n",
       "    <tr>\n",
       "      <th>131</th>\n",
       "      <td>9</td>\n",
       "      <td>60.5</td>\n",
       "      <td>5.30</td>\n",
       "      <td>24.15</td>\n",
       "      <td>1.17</td>\n",
       "    </tr>\n",
       "  </tbody>\n",
       "</table>\n",
       "<p>132 rows × 5 columns</p>\n",
       "</div>"
      ],
      "text/plain": [
       "     Subject    Wt  Dose   Time   conc\n",
       "0         11  79.6  4.02   0.00   0.74\n",
       "1         11  79.6  4.02   0.25   2.84\n",
       "2         11  79.6  4.02   0.57   6.57\n",
       "3         11  79.6  4.02   1.12  10.50\n",
       "4         11  79.6  4.02   2.02   9.66\n",
       "..       ...   ...   ...    ...    ...\n",
       "127        9  60.5  5.30   5.07   8.57\n",
       "128        9  60.5  5.30   7.07   6.59\n",
       "129        9  60.5  5.30   9.03   6.11\n",
       "130        9  60.5  5.30  12.05   4.57\n",
       "131        9  60.5  5.30  24.15   1.17\n",
       "\n",
       "[132 rows x 5 columns]"
      ]
     },
     "execution_count": 16,
     "metadata": {},
     "output_type": "execute_result"
    }
   ],
   "source": [
    "theoph_pd = pd.read_csv('theoph.csv')\n",
    "theoph_pd"
   ]
  },
  {
   "cell_type": "code",
   "execution_count": 17,
   "id": "funny-acrylic",
   "metadata": {},
   "outputs": [],
   "source": [
    "theoph_pd.to_csv('theoph_out.csv', index=False)"
   ]
  },
  {
   "cell_type": "markdown",
   "id": "imported-appreciation",
   "metadata": {},
   "source": [
    "## Getting Summary Statistics\n",
    "Like in other similar libraries, it's possible to get summary statistics about your data using Pandas. For example:"
   ]
  },
  {
   "cell_type": "code",
   "execution_count": 18,
   "id": "characteristic-official",
   "metadata": {},
   "outputs": [
    {
     "data": {
      "text/plain": [
       "4.960454545454546"
      ]
     },
     "execution_count": 18,
     "metadata": {},
     "output_type": "execute_result"
    }
   ],
   "source": [
    "# what was the mean concentration?\n",
    "theoph_pd[\"conc\"].mean()"
   ]
  },
  {
   "cell_type": "code",
   "execution_count": 19,
   "id": "hawaiian-assurance",
   "metadata": {},
   "outputs": [
    {
     "data": {
      "text/plain": [
       "4.53"
      ]
     },
     "execution_count": 19,
     "metadata": {},
     "output_type": "execute_result"
    }
   ],
   "source": [
    "# what was the median dose?\n",
    "theoph_pd['Dose'].median()"
   ]
  },
  {
   "cell_type": "markdown",
   "id": "approved-traveler",
   "metadata": {},
   "source": [
    "You can a bunch of stats about specfic columns using the describe function."
   ]
  },
  {
   "cell_type": "code",
   "execution_count": 20,
   "id": "common-decline",
   "metadata": {},
   "outputs": [
    {
     "data": {
      "text/html": [
       "<div>\n",
       "<style scoped>\n",
       "    .dataframe tbody tr th:only-of-type {\n",
       "        vertical-align: middle;\n",
       "    }\n",
       "\n",
       "    .dataframe tbody tr th {\n",
       "        vertical-align: top;\n",
       "    }\n",
       "\n",
       "    .dataframe thead th {\n",
       "        text-align: right;\n",
       "    }\n",
       "</style>\n",
       "<table border=\"1\" class=\"dataframe\">\n",
       "  <thead>\n",
       "    <tr style=\"text-align: right;\">\n",
       "      <th></th>\n",
       "      <th>Dose</th>\n",
       "      <th>Time</th>\n",
       "    </tr>\n",
       "  </thead>\n",
       "  <tbody>\n",
       "    <tr>\n",
       "      <th>count</th>\n",
       "      <td>132.000000</td>\n",
       "      <td>132.000000</td>\n",
       "    </tr>\n",
       "    <tr>\n",
       "      <th>mean</th>\n",
       "      <td>4.625833</td>\n",
       "      <td>5.894621</td>\n",
       "    </tr>\n",
       "    <tr>\n",
       "      <th>std</th>\n",
       "      <td>0.718074</td>\n",
       "      <td>6.925952</td>\n",
       "    </tr>\n",
       "    <tr>\n",
       "      <th>min</th>\n",
       "      <td>3.100000</td>\n",
       "      <td>0.000000</td>\n",
       "    </tr>\n",
       "    <tr>\n",
       "      <th>25%</th>\n",
       "      <td>4.305000</td>\n",
       "      <td>0.595000</td>\n",
       "    </tr>\n",
       "    <tr>\n",
       "      <th>50%</th>\n",
       "      <td>4.530000</td>\n",
       "      <td>3.530000</td>\n",
       "    </tr>\n",
       "    <tr>\n",
       "      <th>75%</th>\n",
       "      <td>5.037500</td>\n",
       "      <td>9.000000</td>\n",
       "    </tr>\n",
       "    <tr>\n",
       "      <th>max</th>\n",
       "      <td>5.860000</td>\n",
       "      <td>24.650000</td>\n",
       "    </tr>\n",
       "  </tbody>\n",
       "</table>\n",
       "</div>"
      ],
      "text/plain": [
       "             Dose        Time\n",
       "count  132.000000  132.000000\n",
       "mean     4.625833    5.894621\n",
       "std      0.718074    6.925952\n",
       "min      3.100000    0.000000\n",
       "25%      4.305000    0.595000\n",
       "50%      4.530000    3.530000\n",
       "75%      5.037500    9.000000\n",
       "max      5.860000   24.650000"
      ]
     },
     "execution_count": 20,
     "metadata": {},
     "output_type": "execute_result"
    }
   ],
   "source": [
    "theoph_pd[['Dose', 'Time']].describe()"
   ]
  },
  {
   "cell_type": "code",
   "execution_count": null,
   "id": "anticipated-aquarium",
   "metadata": {},
   "outputs": [],
   "source": []
  }
 ],
 "metadata": {
  "kernelspec": {
   "display_name": "Python 3",
   "language": "python",
   "name": "python3"
  },
  "language_info": {
   "codemirror_mode": {
    "name": "ipython",
    "version": 3
   },
   "file_extension": ".py",
   "mimetype": "text/x-python",
   "name": "python",
   "nbconvert_exporter": "python",
   "pygments_lexer": "ipython3",
   "version": "3.8.5"
  }
 },
 "nbformat": 4,
 "nbformat_minor": 5
}
