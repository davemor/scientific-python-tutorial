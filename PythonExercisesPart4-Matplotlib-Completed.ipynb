{
 "cells": [
  {
   "cell_type": "markdown",
   "id": "qualified-doctor",
   "metadata": {},
   "source": [
    "# Matplotlib Exercises"
   ]
  },
  {
   "cell_type": "markdown",
   "id": "mediterranean-terry",
   "metadata": {},
   "source": [
    "## Exercise 1 - Loading Our Data:\n",
    "Read in the theoph.csv data using either Numpy or Pandas and assign it to a variable. We are going to use it in the rest of the exercises.\n",
    "\n",
    "**reminder** columns are: *Subject, Wt, Dose, Time, conc*"
   ]
  },
  {
   "cell_type": "code",
   "execution_count": 1,
   "id": "middle-hunter",
   "metadata": {},
   "outputs": [
    {
     "data": {
      "text/html": [
       "<div>\n",
       "<style scoped>\n",
       "    .dataframe tbody tr th:only-of-type {\n",
       "        vertical-align: middle;\n",
       "    }\n",
       "\n",
       "    .dataframe tbody tr th {\n",
       "        vertical-align: top;\n",
       "    }\n",
       "\n",
       "    .dataframe thead th {\n",
       "        text-align: right;\n",
       "    }\n",
       "</style>\n",
       "<table border=\"1\" class=\"dataframe\">\n",
       "  <thead>\n",
       "    <tr style=\"text-align: right;\">\n",
       "      <th></th>\n",
       "      <th>Subject</th>\n",
       "      <th>Wt</th>\n",
       "      <th>Dose</th>\n",
       "      <th>Time</th>\n",
       "      <th>conc</th>\n",
       "    </tr>\n",
       "  </thead>\n",
       "  <tbody>\n",
       "    <tr>\n",
       "      <th>0</th>\n",
       "      <td>11</td>\n",
       "      <td>79.6</td>\n",
       "      <td>4.02</td>\n",
       "      <td>0.00</td>\n",
       "      <td>0.74</td>\n",
       "    </tr>\n",
       "    <tr>\n",
       "      <th>1</th>\n",
       "      <td>11</td>\n",
       "      <td>79.6</td>\n",
       "      <td>4.02</td>\n",
       "      <td>0.25</td>\n",
       "      <td>2.84</td>\n",
       "    </tr>\n",
       "    <tr>\n",
       "      <th>2</th>\n",
       "      <td>11</td>\n",
       "      <td>79.6</td>\n",
       "      <td>4.02</td>\n",
       "      <td>0.57</td>\n",
       "      <td>6.57</td>\n",
       "    </tr>\n",
       "    <tr>\n",
       "      <th>3</th>\n",
       "      <td>11</td>\n",
       "      <td>79.6</td>\n",
       "      <td>4.02</td>\n",
       "      <td>1.12</td>\n",
       "      <td>10.50</td>\n",
       "    </tr>\n",
       "    <tr>\n",
       "      <th>4</th>\n",
       "      <td>11</td>\n",
       "      <td>79.6</td>\n",
       "      <td>4.02</td>\n",
       "      <td>2.02</td>\n",
       "      <td>9.66</td>\n",
       "    </tr>\n",
       "    <tr>\n",
       "      <th>...</th>\n",
       "      <td>...</td>\n",
       "      <td>...</td>\n",
       "      <td>...</td>\n",
       "      <td>...</td>\n",
       "      <td>...</td>\n",
       "    </tr>\n",
       "    <tr>\n",
       "      <th>127</th>\n",
       "      <td>9</td>\n",
       "      <td>60.5</td>\n",
       "      <td>5.30</td>\n",
       "      <td>5.07</td>\n",
       "      <td>8.57</td>\n",
       "    </tr>\n",
       "    <tr>\n",
       "      <th>128</th>\n",
       "      <td>9</td>\n",
       "      <td>60.5</td>\n",
       "      <td>5.30</td>\n",
       "      <td>7.07</td>\n",
       "      <td>6.59</td>\n",
       "    </tr>\n",
       "    <tr>\n",
       "      <th>129</th>\n",
       "      <td>9</td>\n",
       "      <td>60.5</td>\n",
       "      <td>5.30</td>\n",
       "      <td>9.03</td>\n",
       "      <td>6.11</td>\n",
       "    </tr>\n",
       "    <tr>\n",
       "      <th>130</th>\n",
       "      <td>9</td>\n",
       "      <td>60.5</td>\n",
       "      <td>5.30</td>\n",
       "      <td>12.05</td>\n",
       "      <td>4.57</td>\n",
       "    </tr>\n",
       "    <tr>\n",
       "      <th>131</th>\n",
       "      <td>9</td>\n",
       "      <td>60.5</td>\n",
       "      <td>5.30</td>\n",
       "      <td>24.15</td>\n",
       "      <td>1.17</td>\n",
       "    </tr>\n",
       "  </tbody>\n",
       "</table>\n",
       "<p>132 rows × 5 columns</p>\n",
       "</div>"
      ],
      "text/plain": [
       "     Subject    Wt  Dose   Time   conc\n",
       "0         11  79.6  4.02   0.00   0.74\n",
       "1         11  79.6  4.02   0.25   2.84\n",
       "2         11  79.6  4.02   0.57   6.57\n",
       "3         11  79.6  4.02   1.12  10.50\n",
       "4         11  79.6  4.02   2.02   9.66\n",
       "..       ...   ...   ...    ...    ...\n",
       "127        9  60.5  5.30   5.07   8.57\n",
       "128        9  60.5  5.30   7.07   6.59\n",
       "129        9  60.5  5.30   9.03   6.11\n",
       "130        9  60.5  5.30  12.05   4.57\n",
       "131        9  60.5  5.30  24.15   1.17\n",
       "\n",
       "[132 rows x 5 columns]"
      ]
     },
     "execution_count": 1,
     "metadata": {},
     "output_type": "execute_result"
    }
   ],
   "source": [
    "import pandas as pd\n",
    "theoph = pd.read_csv('theoph.csv')\n",
    "theoph"
   ]
  },
  {
   "cell_type": "markdown",
   "id": "cathedral-procurement",
   "metadata": {},
   "source": [
    "## Exercise 2 - Basic Plotting:\n",
    "For subject 11, create a line plot with their time on the x-axis and their conentration on the y-axis.\n",
    "\n",
    "Tip - you will need to select the rows that have 'Subject' equal to 11 and then selected the 'Time' and 'conc' columns."
   ]
  },
  {
   "cell_type": "code",
   "execution_count": 2,
   "id": "listed-approval",
   "metadata": {},
   "outputs": [
    {
     "data": {
      "text/plain": [
       "[<matplotlib.lines.Line2D at 0x11f61e640>]"
      ]
     },
     "execution_count": 2,
     "metadata": {},
     "output_type": "execute_result"
    },
    {
     "data": {
      "image/png": "[encoded data removed]",
      "text/plain": [
       "<Figure size 432x288 with 1 Axes>"
      ]
     },
     "metadata": {
      "needs_background": "light"
     },
     "output_type": "display_data"
    }
   ],
   "source": [
    "import matplotlib.pyplot as plt\n",
    "\n",
    "predicate = theoph['Subject'] == 1\n",
    "subject_eleven = theoph[predicate]\n",
    "\n",
    "x = subject_eleven['Time']\n",
    "y = subject_eleven['conc']\n",
    "\n",
    "fig, ax = plt.subplots()\n",
    "ax.plot(x, y)"
   ]
  },
  {
   "cell_type": "markdown",
   "id": "russian-supervisor",
   "metadata": {},
   "source": [
    "## Exercise 3 - Improving Readability:\n",
    "- Copy your code from the last exercise into a new cell.\n",
    "- Add a legend to the plot, the label should be 'Subject 11'\n",
    "- Add the label 'Time' to the x-axis\n",
    "- Add the label 'Concentration' to the y-axis\n",
    "- Add a title, 'How Concentration changes over Time'"
   ]
  },
  {
   "cell_type": "code",
   "execution_count": 3,
   "id": "simplified-shoot",
   "metadata": {},
   "outputs": [
    {
     "data": {
      "text/plain": [
       "<matplotlib.legend.Legend at 0x11f7052b0>"
      ]
     },
     "execution_count": 3,
     "metadata": {},
     "output_type": "execute_result"
    },
    {
     "data": {
      "image/png": "[encoded data removed]",
      "text/plain": [
       "<Figure size 432x288 with 1 Axes>"
      ]
     },
     "metadata": {
      "needs_background": "light"
     },
     "output_type": "display_data"
    }
   ],
   "source": [
    "import matplotlib.pyplot as plt\n",
    "\n",
    "predicate = theoph['Subject'] == 11\n",
    "subject_eleven = theoph[predicate]\n",
    "\n",
    "x = subject_eleven['Time']\n",
    "y = subject_eleven['conc']\n",
    "\n",
    "fig, ax = plt.subplots()\n",
    "ax.plot(x, y, label='Subject 11')\n",
    "ax.set_xlabel('Time')\n",
    "ax.set_ylabel('Concentration')\n",
    "ax.set_title('How Concentration changes over Time')\n",
    "ax.legend()"
   ]
  },
  {
   "cell_type": "markdown",
   "id": "viral-pakistan",
   "metadata": {},
   "source": [
    "## Exercise 4 - Adding More Data:\n",
    "- Copy your code from the last exercise into a new cell.\n",
    "- Add plots for subject 1, 2, and 7. "
   ]
  },
  {
   "cell_type": "code",
   "execution_count": 4,
   "id": "olive-trade",
   "metadata": {},
   "outputs": [
    {
     "data": {
      "text/plain": [
       "<matplotlib.legend.Legend at 0x11f72cdf0>"
      ]
     },
     "execution_count": 4,
     "metadata": {},
     "output_type": "execute_result"
    },
    {
     "data": {
      "image/png": "[encoded data removed]",
      "text/plain": [
       "<Figure size 432x288 with 1 Axes>"
      ]
     },
     "metadata": {
      "needs_background": "light"
     },
     "output_type": "display_data"
    }
   ],
   "source": [
    "import matplotlib.pyplot as plt\n",
    "\n",
    "# define a little helper function that gets\n",
    "# the time and concentration column for a\n",
    "# particular subject, based on their id\n",
    "def get_time_conc(subject_id):\n",
    "    predicate = theoph['Subject'] == subject_id\n",
    "    subject = theoph[predicate]  \n",
    "    return subject['Time'], subject['conc']\n",
    "\n",
    "\n",
    "fig, ax = plt.subplots()\n",
    "\n",
    "# loop over all the subject ids that we want\n",
    "# and add them to the plot\n",
    "for idx in [1, 2, 7]:\n",
    "    x, y = get_time_conc(idx)\n",
    "    ax.plot(x, y, label=f'Subject {idx}')\n",
    "    \n",
    "ax.set_xlabel('Time')\n",
    "ax.set_ylabel('Concentration')\n",
    "ax.set_title('How Concentration changes over Time')\n",
    "ax.legend()"
   ]
  },
  {
   "cell_type": "code",
   "execution_count": null,
   "id": "wired-middle",
   "metadata": {},
   "outputs": [],
   "source": []
  }
 ],
 "metadata": {
  "kernelspec": {
   "display_name": "Python 3",
   "language": "python",
   "name": "python3"
  },
  "language_info": {
   "codemirror_mode": {
    "name": "ipython",
    "version": 3
   },
   "file_extension": ".py",
   "mimetype": "text/x-python",
   "name": "python",
   "nbconvert_exporter": "python",
   "pygments_lexer": "ipython3",
   "version": "3.9.1"
  }
 },
 "nbformat": 4,
 "nbformat_minor": 5
}
